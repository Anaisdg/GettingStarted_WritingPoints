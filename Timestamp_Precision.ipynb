{
 "cells": [
  {
   "cell_type": "code",
   "execution_count": 1,
   "metadata": {},
   "outputs": [],
   "source": [
    "import pandas as pd"
   ]
  },
  {
   "cell_type": "code",
   "execution_count": 13,
   "metadata": {},
   "outputs": [
    {
     "data": {
      "text/html": [
       "<div>\n",
       "<style scoped>\n",
       "    .dataframe tbody tr th:only-of-type {\n",
       "        vertical-align: middle;\n",
       "    }\n",
       "\n",
       "    .dataframe tbody tr th {\n",
       "        vertical-align: top;\n",
       "    }\n",
       "\n",
       "    .dataframe thead th {\n",
       "        text-align: right;\n",
       "    }\n",
       "</style>\n",
       "<table border=\"1\" class=\"dataframe\">\n",
       "  <thead>\n",
       "    <tr style=\"text-align: right;\">\n",
       "      <th></th>\n",
       "      <th>time</th>\n",
       "      <th>close</th>\n",
       "      <th>high</th>\n",
       "      <th>low</th>\n",
       "      <th>open</th>\n",
       "      <th>volume</th>\n",
       "    </tr>\n",
       "  </thead>\n",
       "  <tbody>\n",
       "    <tr>\n",
       "      <th>0</th>\n",
       "      <td>1483228740</td>\n",
       "      <td>968.29</td>\n",
       "      <td>968.29</td>\n",
       "      <td>968.29</td>\n",
       "      <td>968.29</td>\n",
       "      <td>0</td>\n",
       "    </tr>\n",
       "    <tr>\n",
       "      <th>1</th>\n",
       "      <td>1483228800</td>\n",
       "      <td>968.70</td>\n",
       "      <td>968.76</td>\n",
       "      <td>968.49</td>\n",
       "      <td>968.29</td>\n",
       "      <td>12993</td>\n",
       "    </tr>\n",
       "    <tr>\n",
       "      <th>2</th>\n",
       "      <td>1483228860</td>\n",
       "      <td>968.43</td>\n",
       "      <td>968.70</td>\n",
       "      <td>967.20</td>\n",
       "      <td>968.70</td>\n",
       "      <td>73800</td>\n",
       "    </tr>\n",
       "    <tr>\n",
       "      <th>3</th>\n",
       "      <td>1483228920</td>\n",
       "      <td>967.21</td>\n",
       "      <td>968.00</td>\n",
       "      <td>967.21</td>\n",
       "      <td>968.43</td>\n",
       "      <td>3500</td>\n",
       "    </tr>\n",
       "    <tr>\n",
       "      <th>4</th>\n",
       "      <td>1483228980</td>\n",
       "      <td>966.97</td>\n",
       "      <td>967.21</td>\n",
       "      <td>966.74</td>\n",
       "      <td>967.21</td>\n",
       "      <td>15969</td>\n",
       "    </tr>\n",
       "  </tbody>\n",
       "</table>\n",
       "</div>"
      ],
      "text/plain": [
       "         time   close    high     low    open  volume\n",
       "0  1483228740  968.29  968.29  968.29  968.29       0\n",
       "1  1483228800  968.70  968.76  968.49  968.29   12993\n",
       "2  1483228860  968.43  968.70  967.20  968.70   73800\n",
       "3  1483228920  967.21  968.00  967.21  968.43    3500\n",
       "4  1483228980  966.97  967.21  966.74  967.21   15969"
      ]
     },
     "execution_count": 13,
     "metadata": {},
     "output_type": "execute_result"
    }
   ],
   "source": [
    "df = pd.read_csv('ddata/BTC_sm.csv')\n",
    "df.head()"
   ]
  },
  {
   "cell_type": "code",
   "execution_count": 14,
   "metadata": {},
   "outputs": [
    {
     "data": {
      "text/html": [
       "<div>\n",
       "<style scoped>\n",
       "    .dataframe tbody tr th:only-of-type {\n",
       "        vertical-align: middle;\n",
       "    }\n",
       "\n",
       "    .dataframe tbody tr th {\n",
       "        vertical-align: top;\n",
       "    }\n",
       "\n",
       "    .dataframe thead th {\n",
       "        text-align: right;\n",
       "    }\n",
       "</style>\n",
       "<table border=\"1\" class=\"dataframe\">\n",
       "  <thead>\n",
       "    <tr style=\"text-align: right;\">\n",
       "      <th></th>\n",
       "      <th>time</th>\n",
       "      <th>close</th>\n",
       "      <th>high</th>\n",
       "      <th>low</th>\n",
       "      <th>open</th>\n",
       "      <th>volume</th>\n",
       "    </tr>\n",
       "  </thead>\n",
       "  <tbody>\n",
       "    <tr>\n",
       "      <th>0</th>\n",
       "      <td>1483228740000000000</td>\n",
       "      <td>968.29</td>\n",
       "      <td>968.29</td>\n",
       "      <td>968.29</td>\n",
       "      <td>968.29</td>\n",
       "      <td>0</td>\n",
       "    </tr>\n",
       "    <tr>\n",
       "      <th>1</th>\n",
       "      <td>1483228800000000000</td>\n",
       "      <td>968.70</td>\n",
       "      <td>968.76</td>\n",
       "      <td>968.49</td>\n",
       "      <td>968.29</td>\n",
       "      <td>12993</td>\n",
       "    </tr>\n",
       "    <tr>\n",
       "      <th>2</th>\n",
       "      <td>1483228860000000000</td>\n",
       "      <td>968.43</td>\n",
       "      <td>968.70</td>\n",
       "      <td>967.20</td>\n",
       "      <td>968.70</td>\n",
       "      <td>73800</td>\n",
       "    </tr>\n",
       "    <tr>\n",
       "      <th>3</th>\n",
       "      <td>1483228920000000000</td>\n",
       "      <td>967.21</td>\n",
       "      <td>968.00</td>\n",
       "      <td>967.21</td>\n",
       "      <td>968.43</td>\n",
       "      <td>3500</td>\n",
       "    </tr>\n",
       "    <tr>\n",
       "      <th>4</th>\n",
       "      <td>1483228980000000000</td>\n",
       "      <td>966.97</td>\n",
       "      <td>967.21</td>\n",
       "      <td>966.74</td>\n",
       "      <td>967.21</td>\n",
       "      <td>15969</td>\n",
       "    </tr>\n",
       "  </tbody>\n",
       "</table>\n",
       "</div>"
      ],
      "text/plain": [
       "                  time   close    high     low    open  volume\n",
       "0  1483228740000000000  968.29  968.29  968.29  968.29       0\n",
       "1  1483228800000000000  968.70  968.76  968.49  968.29   12993\n",
       "2  1483228860000000000  968.43  968.70  967.20  968.70   73800\n",
       "3  1483228920000000000  967.21  968.00  967.21  968.43    3500\n",
       "4  1483228980000000000  966.97  967.21  966.74  967.21   15969"
      ]
     },
     "execution_count": 14,
     "metadata": {},
     "output_type": "execute_result"
    }
   ],
   "source": [
    "df[\"time\"] = [str(df[\"time\"][t]) + \"000000000\" for t in range(len(df))]\n",
    "df.head()"
   ]
  },
  {
   "cell_type": "code",
   "execution_count": 15,
   "metadata": {},
   "outputs": [],
   "source": [
    "ns_precision = df"
   ]
  },
  {
   "cell_type": "code",
   "execution_count": 16,
   "metadata": {},
   "outputs": [],
   "source": [
    "ns_precision.to_csv('data/BTC_sm_ns.csv', index=False)"
   ]
  },
  {
   "cell_type": "code",
   "execution_count": null,
   "metadata": {},
   "outputs": [],
   "source": []
  }
 ],
 "metadata": {
  "kernelspec": {
   "display_name": "Python 3",
   "language": "python",
   "name": "python3"
  },
  "language_info": {
   "codemirror_mode": {
    "name": "ipython",
    "version": 3
   },
   "file_extension": ".py",
   "mimetype": "text/x-python",
   "name": "python",
   "nbconvert_exporter": "python",
   "pygments_lexer": "ipython3",
   "version": "3.6.5"
  }
 },
 "nbformat": 4,
 "nbformat_minor": 2
}
